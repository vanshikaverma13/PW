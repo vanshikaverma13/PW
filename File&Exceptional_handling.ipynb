{
  "nbformat": 4,
  "nbformat_minor": 0,
  "metadata": {
    "colab": {
      "provenance": [],
      "authorship_tag": "ABX9TyOQXRdf2h/s0iUBaNR2FHfe",
      "include_colab_link": true
    },
    "kernelspec": {
      "name": "python3",
      "display_name": "Python 3"
    },
    "language_info": {
      "name": "python"
    }
  },
  "cells": [
    {
      "cell_type": "markdown",
      "metadata": {
        "id": "view-in-github",
        "colab_type": "text"
      },
      "source": [
        "<a href=\"https://colab.research.google.com/github/vanshikaverma13/PW/blob/main/File%26Exceptional_handling.ipynb\" target=\"_parent\"><img src=\"https://colab.research.google.com/assets/colab-badge.svg\" alt=\"Open In Colab\"/></a>"
      ]
    },
    {
      "cell_type": "code",
      "source": [
        "                             #ASSIGNMENT-FILE AND EXCEPTIONAL HANDLING ASSIGNMENT QUESTIONS\n",
        "                             #NAME- VANSHIKA VERMA\n",
        "                             #Email id: vanshikaverma131004@gmail.com\n",
        "\n",
        "\n",
        "# 1. Write a Python program using multithreading where one thread adds numbers to a list, and another\n",
        "#thread removes numbers from the list. Implement a mechanism to avoid race conditions using\n",
        "#threading.Lock.\n",
        "\n",
        "import threading\n",
        "import time\n",
        "\n",
        "\n",
        "shared_list = []\n",
        "lock = threading.Lock()\n",
        "\n",
        "def add_numbers():\n",
        "    for i in range(10):\n",
        "        time.sleep(0.1)\n",
        "        with lock:\n",
        "            shared_list.append(i)\n",
        "            print(f\"Added {i}: {shared_list}\")\n",
        "\n",
        "\n",
        "def remove_numbers():\n",
        "    for _ in range(10):\n",
        "        time.sleep(0.15)\n",
        "        with lock:\n",
        "            if shared_list:\n",
        "                removed_value = shared_list.pop(0)\n",
        "                print(f\"Removed {removed_value}: {shared_list}\")\n",
        "\n",
        "\n",
        "add_thread = threading.Thread(target=add_numbers)\n",
        "remove_thread = threading.Thread(target=remove_numbers)\n",
        "\n",
        "add_thread.start()\n",
        "remove_thread.start()\n",
        "\n",
        "add_thread.join()\n",
        "remove_thread.join()\n",
        "\n",
        "print(f\"Final state of shared list: {shared_list}\")\n"
      ],
      "metadata": {
        "colab": {
          "base_uri": "https://localhost:8080/"
        },
        "id": "Tv0cDDrtphD6",
        "outputId": "9a5dd7be-b030-4ce7-cbad-eb857c631c99"
      },
      "execution_count": null,
      "outputs": [
        {
          "output_type": "stream",
          "name": "stdout",
          "text": [
            "Added 0: [0]\n",
            "Removed 0: []\n",
            "Added 1: [1]\n",
            "Added 2: [1, 2]\n",
            "Removed 1: [2]\n",
            "Added 3: [2, 3]\n",
            "Removed 2: [3]\n",
            "Added 4: [3, 4]\n",
            "Added 5: [3, 4, 5]\n",
            "Removed 3: [4, 5]\n",
            "Added 6: [4, 5, 6]\n",
            "Removed 4: [5, 6]\n",
            "Added 7: [5, 6, 7]\n",
            "Added 8: [5, 6, 7, 8]\n",
            "Removed 5: [6, 7, 8]\n",
            "Added 9: [6, 7, 8, 9]\n",
            "Removed 6: [7, 8, 9]\n",
            "Removed 7: [8, 9]\n",
            "Removed 8: [9]\n",
            "Removed 9: []\n",
            "Final state of shared list: []\n"
          ]
        }
      ]
    },
    {
      "cell_type": "code",
      "source": [
        "from google.colab import drive\n",
        "drive.mount('/content/drive')"
      ],
      "metadata": {
        "id": "00aofOA0V43u"
      },
      "execution_count": null,
      "outputs": []
    },
    {
      "cell_type": "code",
      "source": [
        "#2.Create a program that uses a thread pool to calculate the factorial of numbers from 1 to 10 concurrently.\n",
        "#Use concurrent.futures.ThreadPoolExecutor to manage the threads.\n",
        "\n",
        "from concurrent.futures import ThreadPoolExecutor\n",
        "import math\n",
        "\n",
        "def calculate_factorial(n):\n",
        "    return math.factorial(n)\n",
        "\n",
        "def main():\n",
        "    with ThreadPoolExecutor() as executor:\n",
        "        futures = {executor.submit(calculate_factorial, i): i for i in range(1, 11)}\n",
        "\n",
        "        for future in futures:\n",
        "            number = futures[future]\n",
        "            result = future.result()\n",
        "            print(f\"The factorial of {number} is {result}\")\n",
        "\n",
        "if __name__ == \"__main__\":\n",
        "    main()"
      ],
      "metadata": {
        "colab": {
          "base_uri": "https://localhost:8080/"
        },
        "id": "1FT7zvm7psT_",
        "outputId": "e493a376-b583-40d3-ee8f-85c157f2da5d"
      },
      "execution_count": null,
      "outputs": [
        {
          "output_type": "stream",
          "name": "stdout",
          "text": [
            "The factorial of 1 is 1\n",
            "The factorial of 2 is 2\n",
            "The factorial of 3 is 6\n",
            "The factorial of 4 is 24\n",
            "The factorial of 5 is 120\n",
            "The factorial of 6 is 720\n",
            "The factorial of 7 is 5040\n",
            "The factorial of 8 is 40320\n",
            "The factorial of 9 is 362880\n",
            "The factorial of 10 is 3628800\n"
          ]
        }
      ]
    },
    {
      "cell_type": "code",
      "source": [
        "#3.Create a Python program that uses multiprocessing.Pool to compute the square of numbers from 1 to 10 in\n",
        "#parallel. Measure the time taken to perform this computation using a pool of different sizes (e.g., 2, 4, 8\n",
        "#processes).\n",
        "\n",
        "import multiprocessing\n",
        "import time\n",
        "\n",
        "def square(n):\n",
        "    return n * n\n",
        "\n",
        "\n",
        "def compute_squares(pool_size):\n",
        "    with multiprocessing.Pool(processes=pool_size) as pool:\n",
        "\n",
        "        start_time = time.time()\n",
        "\n",
        "        results = pool.map(square, range(1, 11))\n",
        "\n",
        "        end_time = time.time()\n",
        "\n",
        "\n",
        "    return results, end_time - start_time\n",
        "\n",
        "\n",
        "if __name__ == \"__main__\":\n",
        "    pool_sizes = [2, 4, 8]\n",
        "\n",
        "    for size in pool_sizes:\n",
        "        squares, elapsed_time = compute_squares(size)\n",
        "        print(f\"Pool Size: {size}, Squares: {squares}, Time Taken: {elapsed_time:.4f} seconds\")"
      ],
      "metadata": {
        "colab": {
          "base_uri": "https://localhost:8080/"
        },
        "id": "gM1Tt5zdp9GY",
        "outputId": "27c5adcf-340e-483c-8b44-83fbbff14a19"
      },
      "execution_count": null,
      "outputs": [
        {
          "output_type": "stream",
          "name": "stdout",
          "text": [
            "Pool Size: 2, Squares: [1, 4, 9, 16, 25, 36, 49, 64, 81, 100], Time Taken: 0.0022 seconds\n",
            "Pool Size: 4, Squares: [1, 4, 9, 16, 25, 36, 49, 64, 81, 100], Time Taken: 0.0031 seconds\n",
            "Pool Size: 8, Squares: [1, 4, 9, 16, 25, 36, 49, 64, 81, 100], Time Taken: 0.0031 seconds\n"
          ]
        }
      ]
    }
  ]
}